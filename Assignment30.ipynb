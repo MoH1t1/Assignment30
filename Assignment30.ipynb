{
  "metadata": {
    "kernelspec": {
      "name": "python",
      "display_name": "Python (Pyodide)",
      "language": "python"
    },
    "language_info": {
      "codemirror_mode": {
        "name": "python",
        "version": 3
      },
      "file_extension": ".py",
      "mimetype": "text/x-python",
      "name": "python",
      "nbconvert_exporter": "python",
      "pygments_lexer": "ipython3",
      "version": "3.8"
    }
  },
  "nbformat_minor": 4,
  "nbformat": 4,
  "cells": [
    {
      "cell_type": "code",
      "source": "# Q1: What are the Probability Mass Function (PMF) and Probability Density Function (PDF)? Explain with\n# an example.\n\nPMF: Gives probabilities for discrete random variables. Example: Probability of rolling a 3 on a die.\nPDF: Describes the likelihood of continuous random variables. Example: Height distribution in a population.",
      "metadata": {
        "trusted": true
      },
      "outputs": [],
      "execution_count": null
    },
    {
      "cell_type": "code",
      "source": "# Q2: What is Cumulative Density Function (CDF)? Explain with an example. Why CDF is used?\n\nThe CDF gives the probability that a random variable X takes a value less than or equal to \nx. For a random variable  X, the CDF is defined as: F(x)=P(X≤x)\n\nExample: For a die roll: The CDF at x=3 is P(X≤3) = P(X=1) + P(X=2) + P(X=3) = 1/6 + 1/6 + 1/6 = 0.5 \n\nUses:\nSummarizes Probabilities: Shows cumulative probabilities for all values up to x.\nRange Probabilities: Helps compute probabilities over an interval (e.g., P(a≤X≤b)).\nStatistical Analysis: Used in hypothesis testing, finding percentiles, and comparing distributions",
      "metadata": {
        "trusted": true
      },
      "outputs": [],
      "execution_count": null
    },
    {
      "cell_type": "code",
      "source": "# Q3: What are some examples of situations where the normal distribution might be used as a model? Explain how the parameters of the normal distribution relate to the shape of the distribution.\n\nExamples:\nHeight: Human heights typically follow a normal distribution.\nIQ scores: Standardized tests like IQ are modeled using a normal distribution.\nMeasurement errors: Random errors in experiments often follow a normal distribution.\n\nParameters and Shape:\nMean (μ): Centers the distribution.\nStandard Deviation (σ): Controls the spread; smaller σ means a narrower peak, larger σ means a wider spread.\nThe distribution is symmetric around the mean.",
      "metadata": {
        "trusted": true
      },
      "outputs": [],
      "execution_count": null
    },
    {
      "cell_type": "code",
      "source": "# Q4: Explain the importance of Normal Distribution. Give a few real-life examples of Normal Distribution.\n\nImportance:\nFoundation of Statistics: It is crucial in statistical inference, hypothesis testing, and confidence intervals.\nCentral Limit Theorem: States that the sampling distribution of the sample mean approaches normality as sample size increases, regardless of the population distribution.\n\nExamples:\nHuman Heights: The heights of a large population typically follow a normal distribution.\nIQ Scores: IQ tests are designed to follow a normal distribution with a mean of 100 and a standard deviation of 15.",
      "metadata": {
        "trusted": true
      },
      "outputs": [],
      "execution_count": null
    },
    {
      "cell_type": "code",
      "source": "# Q5: What is Bernaulli Distribution? Give an Example. What is the difference between Bernoulli Distribution and Binomial Distribution?\n\nThe Bernoulli distribution is a discrete probability distribution of a random variable that has exactly two outcomes: success or failure. \nIt is used to model binary events. Parameter: The probability of success p (and failure is 1−p).\nExample: Coin Toss: Tossing a fair coin has two outcomes: heads (success) or tails (failure). If p=0.5, the coin has a Bernoulli distribution.\n\nDifference:\nBernoulli Distribution: Models a single trial with two outcomes (success/failure). Example: Tossing a coin once.\nBinomial Distribution: Models multiple independent Bernoulli trials. Example: Tossing a coin 10 times and counting the number of heads (successes).\n",
      "metadata": {
        "trusted": true
      },
      "outputs": [],
      "execution_count": null
    },
    {
      "cell_type": "code",
      "source": "# Q6. Consider a dataset with a mean of 50 and a standard deviation of 10. If we assume that the dataset is normally distributed, what is the probability that \n#     a randomly selected observation will be greater than 60? Use the appropriate formula and show your calculations.\n\nStandardize using Z = (X−μ)/σ\n                    = (60 - 50)/10\n                    = 1\n\nUsing Z-table, P(Z>1) = 1−0.8413 = 0.1587.\nProbability: 15.87%.\n",
      "metadata": {
        "trusted": true
      },
      "outputs": [],
      "execution_count": null
    },
    {
      "cell_type": "code",
      "source": "# Q7: Explain uniform Distribution with an example.\n\nA uniform distribution is a probability distribution where all outcomes in a given range are equally likely. It can be discrete or continuous.\nExample: Rolling a fair six-sided die. Each outcome {1,2,3,4,5,6} has an equal probability of 1/6",
      "metadata": {
        "trusted": true
      },
      "outputs": [],
      "execution_count": null
    },
    {
      "cell_type": "code",
      "source": "# Q8: What is the z score? State the importance of the z score.\n\nZ score is used to measures how far a value is from the mean in standard deviations.\nImportance: Standardizes data, compares values across distributions.",
      "metadata": {
        "trusted": true
      },
      "outputs": [],
      "execution_count": null
    },
    {
      "cell_type": "code",
      "source": "# Q9: What is Central Limit Theorem? State the significance of the Central Limit Theorem.\n\nCentral Limit Theorem refers to the  sampling distribution of the sample mean approaches normality as sample size increases, regardless of population distribution.\nSignificance: Enables inference and hypothesis testing.",
      "metadata": {
        "trusted": true
      },
      "outputs": [],
      "execution_count": null
    },
    {
      "cell_type": "code",
      "source": "# Q10: State the assumptions of the Central Limit Theorem.\n\nAssumptions of CLT:\nIndependent samples\nSample size is sufficiently large (usually n≥30)\nFinite variance in the population",
      "metadata": {
        "trusted": true
      },
      "outputs": [],
      "execution_count": null
    }
  ]
}